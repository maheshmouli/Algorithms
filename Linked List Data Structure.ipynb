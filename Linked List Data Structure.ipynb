{
 "cells": [
  {
   "cell_type": "code",
   "execution_count": 14,
   "id": "8e40b41d",
   "metadata": {},
   "outputs": [
    {
     "name": "stdout",
     "output_type": "stream",
     "text": [
      "30 10 30 20 "
     ]
    }
   ],
   "source": [
    "# Inserting an element in the front of a linked list\n",
    "\n",
    "# Creating a Node to store the data and the next pointer\n",
    "class Node:\n",
    "    def __init__(self, data):\n",
    "        self.data = data\n",
    "        self.nextptr = None\n",
    "\n",
    "# Creating a linkedlist class to hold head, insertion and traversal of a linked list\n",
    "class Linkedlist:\n",
    "    def __init__(self):\n",
    "        self.head = None # At first head will be pointed to None\n",
    "        \n",
    "    # Inserting each element in the front. \n",
    "    def insertionfront(self, new_data):\n",
    "        newnode = Node(new_data) # Storing the new data\n",
    "        newnode.nextptr = self.head # Storing the prev. head pointer address in newnode\n",
    "        self.head = newnode # Head will store the new node address\n",
    "        \n",
    "    def linkedlisttraversal(self):\n",
    "        temp = self.head # Stores the head\n",
    "        while temp:\n",
    "            print(str(temp.data)+ \" \", end=\"\")\n",
    "            temp = temp.nextptr # Moves to next pointer\n",
    "        \n",
    "if __name__==\"__main__\":\n",
    "    llist = Linkedlist()\n",
    "    llist.insertionfront(20)\n",
    "    llist.insertionfront(30)\n",
    "    llist.insertionfront(10)\n",
    "    llist.insertionfront(30)\n",
    "    llist.linkedlisttraversal()"
   ]
  },
  {
   "cell_type": "code",
   "execution_count": 15,
   "id": "099240ed",
   "metadata": {},
   "outputs": [
    {
     "name": "stdout",
     "output_type": "stream",
     "text": [
      "20 30 10 30 "
     ]
    }
   ],
   "source": [
    "# Inserting an element at the end of the linkedlist\n",
    "\n",
    "# Creating a Node to store the data and the next pointer\n",
    "class Node:\n",
    "    def __init__(self, data):\n",
    "        self.data = data\n",
    "        self.nextptr = None\n",
    "\n",
    "# Creating a linkedlist class to hold head, insertion and traversal of a linked list\n",
    "class Linkedlist:\n",
    "    def __init__(self):\n",
    "        self.head = None # At first head will be pointed to None\n",
    "    \n",
    "    \n",
    "    def insertatend(self, new_data):\n",
    "        #create a new node\n",
    "        newnode = Node(new_data)\n",
    "        \n",
    "        #check linkedlist is empty or not\n",
    "        if self.head is None:\n",
    "            self.head = newnode\n",
    "            return \n",
    "        \n",
    "        #insert data at the end\n",
    "        temp = self.head # temp pointing to head\n",
    "        while temp.nextptr is not None: \n",
    "            temp = temp.nextptr # if the next pointer is not None move to next\n",
    "        temp.nextptr = newnode # Once you reach none update it with new node.\n",
    "        \n",
    "    def linkedlisttraversal(self):\n",
    "        temp = self.head # Stores the head\n",
    "        while temp:\n",
    "            print(str(temp.data)+ \" \", end=\"\")\n",
    "            temp = temp.nextptr # Moves to next pointer\n",
    "        \n",
    "if __name__==\"__main__\":\n",
    "    llist = Linkedlist()\n",
    "    llist.insertatend(20)\n",
    "    llist.insertatend(30)\n",
    "    llist.insertatend(10)\n",
    "    llist.insertatend(30)\n",
    "    llist.linkedlisttraversal()"
   ]
  },
  {
   "cell_type": "code",
   "execution_count": 13,
   "id": "f759f149",
   "metadata": {},
   "outputs": [
    {
     "name": "stdout",
     "output_type": "stream",
     "text": [
      "Inserting a linked list at the end: \n",
      "20 30 10 30 \n",
      "Inserting the element inbetween: \n",
      "20 30 15 10 30 "
     ]
    }
   ],
   "source": [
    "# Inserting an element after an of the previous element\n",
    "\n",
    "# Creating a Node to store the data and the next pointer\n",
    "class Node:\n",
    "    def __init__(self, data):\n",
    "        self.data = data\n",
    "        self.nextptr = None\n",
    "\n",
    "# Creating a linkedlist class to hold head, insertion and traversal of a linked list\n",
    "class Linkedlist:\n",
    "    def __init__(self):\n",
    "        self.head = None # At first head will be pointed to None\n",
    "    \n",
    "    \n",
    "    def insertatend(self, new_data):\n",
    "        #create a new node\n",
    "        newnode = Node(new_data)\n",
    "        #check linkedlist is empty or not\n",
    "        if self.head is None:\n",
    "            self.head = newnode\n",
    "            return \n",
    "        \n",
    "        #insert data at the end\n",
    "        temp = self.head\n",
    "        while temp.nextptr is not None:\n",
    "            temp = temp.nextptr\n",
    "        temp.nextptr = newnode\n",
    "\n",
    "    def insertafterNode(self, prev_node, new_data):\n",
    "        if prev_node is None:\n",
    "            print(\"Node must be available\")\n",
    "            return\n",
    "        \n",
    "        newnode = Node(new_data) # creating a newnode\n",
    "        newnode.nextptr = prev_node.nextptr # this will point to previous node next pointer\n",
    "        prev_node.nextptr = newnode # here previous node will point to the new node \n",
    "        \n",
    "    def linkedlisttraversal(self):\n",
    "        temp = self.head # Stores the head\n",
    "        while temp:\n",
    "            print(str(temp.data)+ \" \", end=\"\")\n",
    "            temp = temp.nextptr # Moves to next pointer\n",
    "        \n",
    "if __name__==\"__main__\":\n",
    "    llist = Linkedlist()\n",
    "    llist.insertatend(20)\n",
    "    llist.insertatend(30)\n",
    "    llist.insertatend(10)\n",
    "    llist.insertatend(30)\n",
    "    print(\"Inserting a linked list at the end: \")\n",
    "    llist.linkedlisttraversal()\n",
    "    print()\n",
    "    llist.insertafterNode(llist.head.nextptr, 15)\n",
    "    print(\"Inserting the element inbetween: \")\n",
    "    llist.linkedlisttraversal()"
   ]
  },
  {
   "cell_type": "code",
   "execution_count": null,
   "id": "e20aeed8",
   "metadata": {},
   "outputs": [],
   "source": []
  }
 ],
 "metadata": {
  "kernelspec": {
   "display_name": "Python 3 (ipykernel)",
   "language": "python",
   "name": "python3"
  },
  "language_info": {
   "codemirror_mode": {
    "name": "ipython",
    "version": 3
   },
   "file_extension": ".py",
   "mimetype": "text/x-python",
   "name": "python",
   "nbconvert_exporter": "python",
   "pygments_lexer": "ipython3",
   "version": "3.9.7"
  }
 },
 "nbformat": 4,
 "nbformat_minor": 5
}
