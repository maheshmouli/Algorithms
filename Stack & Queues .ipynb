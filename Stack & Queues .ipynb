{
 "cells": [
  {
   "cell_type": "code",
   "execution_count": 2,
   "id": "6dab0ea5",
   "metadata": {},
   "outputs": [],
   "source": [
    "# Stack implementation using list(Dynamic List)\n",
    "\n",
    "stack = []\n",
    "stack.append(\"Mouli\")\n",
    "stack.append(\"Siramdasu\")\n",
    "stack.append(\"June\")\n",
    "stack.append(\"1998\")"
   ]
  },
  {
   "cell_type": "code",
   "execution_count": 3,
   "id": "41e8f62d",
   "metadata": {},
   "outputs": [
    {
     "data": {
      "text/plain": [
       "['Mouli', 'Siramdasu', 'June', '1998']"
      ]
     },
     "execution_count": 3,
     "metadata": {},
     "output_type": "execute_result"
    }
   ],
   "source": [
    "stack"
   ]
  },
  {
   "cell_type": "code",
   "execution_count": 4,
   "id": "c1187b4e",
   "metadata": {},
   "outputs": [
    {
     "data": {
      "text/plain": [
       "'1998'"
      ]
     },
     "execution_count": 4,
     "metadata": {},
     "output_type": "execute_result"
    }
   ],
   "source": [
    "stack.pop()"
   ]
  },
  {
   "cell_type": "code",
   "execution_count": 7,
   "id": "39417b2c",
   "metadata": {},
   "outputs": [
    {
     "data": {
      "text/plain": [
       "['__add__',\n",
       " '__bool__',\n",
       " '__class__',\n",
       " '__class_getitem__',\n",
       " '__contains__',\n",
       " '__copy__',\n",
       " '__delattr__',\n",
       " '__delitem__',\n",
       " '__dir__',\n",
       " '__doc__',\n",
       " '__eq__',\n",
       " '__format__',\n",
       " '__ge__',\n",
       " '__getattribute__',\n",
       " '__getitem__',\n",
       " '__gt__',\n",
       " '__hash__',\n",
       " '__iadd__',\n",
       " '__imul__',\n",
       " '__init__',\n",
       " '__init_subclass__',\n",
       " '__iter__',\n",
       " '__le__',\n",
       " '__len__',\n",
       " '__lt__',\n",
       " '__mul__',\n",
       " '__ne__',\n",
       " '__new__',\n",
       " '__reduce__',\n",
       " '__reduce_ex__',\n",
       " '__repr__',\n",
       " '__reversed__',\n",
       " '__rmul__',\n",
       " '__setattr__',\n",
       " '__setitem__',\n",
       " '__sizeof__',\n",
       " '__str__',\n",
       " '__subclasshook__',\n",
       " 'append',\n",
       " 'appendleft',\n",
       " 'clear',\n",
       " 'copy',\n",
       " 'count',\n",
       " 'extend',\n",
       " 'extendleft',\n",
       " 'index',\n",
       " 'insert',\n",
       " 'maxlen',\n",
       " 'pop',\n",
       " 'popleft',\n",
       " 'remove',\n",
       " 'reverse',\n",
       " 'rotate']"
      ]
     },
     "execution_count": 7,
     "metadata": {},
     "output_type": "execute_result"
    }
   ],
   "source": [
    "# Implementation of stack uisng deque\n",
    "\n",
    "from collections import deque\n",
    "\n",
    "stack = deque()\n",
    "dir(stack)"
   ]
  },
  {
   "cell_type": "code",
   "execution_count": 8,
   "id": "cdca05f4",
   "metadata": {},
   "outputs": [],
   "source": [
    "stack.append(\"Mouli\")\n",
    "stack.append(\"Siramdasu\")\n",
    "stack.append(\"June\")\n",
    "stack.append(\"1998\")"
   ]
  },
  {
   "cell_type": "code",
   "execution_count": 9,
   "id": "1346f619",
   "metadata": {},
   "outputs": [
    {
     "data": {
      "text/plain": [
       "'1998'"
      ]
     },
     "execution_count": 9,
     "metadata": {},
     "output_type": "execute_result"
    }
   ],
   "source": [
    "stack.pop()"
   ]
  },
  {
   "cell_type": "code",
   "execution_count": 10,
   "id": "82ce92ba",
   "metadata": {},
   "outputs": [
    {
     "data": {
      "text/plain": [
       "deque(['Mouli', 'Siramdasu', 'June'])"
      ]
     },
     "execution_count": 10,
     "metadata": {},
     "output_type": "execute_result"
    }
   ],
   "source": [
    "stack"
   ]
  },
  {
   "cell_type": "code",
   "execution_count": 27,
   "id": "154ee69a",
   "metadata": {},
   "outputs": [],
   "source": [
    "# Creating a Class of a stack with push, pop, peek, is_empty, size\n",
    "\n",
    "from collections import deque\n",
    "class stack:\n",
    "    def __init__(self):\n",
    "        self.container = deque()\n",
    "        \n",
    "    def push(self, ele):\n",
    "        return self.container.append(ele)\n",
    "    \n",
    "    def pop(self):\n",
    "        \n",
    "        return self.container.pop()\n",
    "        \n",
    "    def peek(self):\n",
    "        return self.container[-1]\n",
    "    \n",
    "    def is_empty(self):\n",
    "        if len(self.container)==0:\n",
    "            return True\n",
    "        return False\n",
    "    \n",
    "    def size(self):\n",
    "        return len(self.container)\n",
    "\n"
   ]
  },
  {
   "cell_type": "code",
   "execution_count": 28,
   "id": "81301131",
   "metadata": {},
   "outputs": [],
   "source": [
    "s = stack()\n",
    "s.push(3)\n",
    "s.push(4)\n",
    "s.push(5)"
   ]
  },
  {
   "cell_type": "code",
   "execution_count": 31,
   "id": "6589f0c8",
   "metadata": {},
   "outputs": [
    {
     "data": {
      "text/plain": [
       "4"
      ]
     },
     "execution_count": 31,
     "metadata": {},
     "output_type": "execute_result"
    }
   ],
   "source": [
    "s.peek()"
   ]
  },
  {
   "cell_type": "code",
   "execution_count": 32,
   "id": "f8770373",
   "metadata": {},
   "outputs": [
    {
     "data": {
      "text/plain": [
       "4"
      ]
     },
     "execution_count": 32,
     "metadata": {},
     "output_type": "execute_result"
    }
   ],
   "source": [
    "s.pop()"
   ]
  },
  {
   "cell_type": "markdown",
   "id": "0e615aef",
   "metadata": {},
   "source": [
    "# Queues - FIFO\n"
   ]
  },
  {
   "cell_type": "code",
   "execution_count": 33,
   "id": "d829835f",
   "metadata": {},
   "outputs": [],
   "source": [
    "# Insertion in queue - FIFO using list"
   ]
  },
  {
   "cell_type": "code",
   "execution_count": 1,
   "id": "9dc4c945",
   "metadata": {},
   "outputs": [],
   "source": [
    "stock = []\n",
    "stock.insert(0,22)\n",
    "stock.insert(0,23)\n",
    "stock.insert(0,24)"
   ]
  },
  {
   "cell_type": "code",
   "execution_count": 2,
   "id": "92fc4be6",
   "metadata": {},
   "outputs": [
    {
     "data": {
      "text/plain": [
       "[24, 23, 22]"
      ]
     },
     "execution_count": 2,
     "metadata": {},
     "output_type": "execute_result"
    }
   ],
   "source": [
    "stock"
   ]
  },
  {
   "cell_type": "code",
   "execution_count": 3,
   "id": "f304eaf3",
   "metadata": {},
   "outputs": [
    {
     "data": {
      "text/plain": [
       "24"
      ]
     },
     "execution_count": 3,
     "metadata": {},
     "output_type": "execute_result"
    }
   ],
   "source": [
    "stock.pop(0)"
   ]
  },
  {
   "cell_type": "code",
   "execution_count": 39,
   "id": "727f7c1d",
   "metadata": {},
   "outputs": [],
   "source": [
    "# Insertion of queue - using deque\n",
    "\n",
    "from collections import deque\n",
    "\n",
    "queue = deque()\n",
    "# dir(queue)\n",
    "\n"
   ]
  },
  {
   "cell_type": "code",
   "execution_count": 40,
   "id": "31c2c251",
   "metadata": {},
   "outputs": [],
   "source": [
    "queue.appendleft(45)\n",
    "queue.appendleft(46)\n",
    "queue.appendleft(47)"
   ]
  },
  {
   "cell_type": "code",
   "execution_count": 41,
   "id": "e6a79866",
   "metadata": {},
   "outputs": [
    {
     "data": {
      "text/plain": [
       "deque([47, 46, 45])"
      ]
     },
     "execution_count": 41,
     "metadata": {},
     "output_type": "execute_result"
    }
   ],
   "source": [
    "queue"
   ]
  },
  {
   "cell_type": "code",
   "execution_count": 42,
   "id": "6300d32f",
   "metadata": {},
   "outputs": [
    {
     "data": {
      "text/plain": [
       "45"
      ]
     },
     "execution_count": 42,
     "metadata": {},
     "output_type": "execute_result"
    }
   ],
   "source": [
    "queue.pop()"
   ]
  },
  {
   "cell_type": "code",
   "execution_count": 43,
   "id": "53f1cb9f",
   "metadata": {},
   "outputs": [],
   "source": [
    "# Insertion of queue - another approach\n",
    "\n",
    "que1 = deque()\n",
    "que1.append(45)\n",
    "que1.append(46)\n",
    "que1.append(47)"
   ]
  },
  {
   "cell_type": "code",
   "execution_count": 44,
   "id": "7c4d2000",
   "metadata": {},
   "outputs": [
    {
     "data": {
      "text/plain": [
       "deque([45, 46, 47])"
      ]
     },
     "execution_count": 44,
     "metadata": {},
     "output_type": "execute_result"
    }
   ],
   "source": [
    "que1"
   ]
  },
  {
   "cell_type": "code",
   "execution_count": 45,
   "id": "6108867b",
   "metadata": {},
   "outputs": [
    {
     "data": {
      "text/plain": [
       "45"
      ]
     },
     "execution_count": 45,
     "metadata": {},
     "output_type": "execute_result"
    }
   ],
   "source": [
    "que1.popleft()"
   ]
  },
  {
   "cell_type": "code",
   "execution_count": 51,
   "id": "924f9f21",
   "metadata": {},
   "outputs": [],
   "source": [
    "# Implementing queue class\n",
    "\n",
    "from collections import deque\n",
    "\n",
    "class Queue:\n",
    "    def __init__(self):\n",
    "        self.container = deque()\n",
    "        \n",
    "    def enqueue(self, data):\n",
    "        return self.container.appendleft(data)\n",
    "    \n",
    "    def dequeue(self):\n",
    "        return self.container.pop()\n",
    "        \n",
    "    def is_empty(self):\n",
    "        if len(self.container)==0:\n",
    "            return True\n",
    "        return False\n",
    "        \n",
    "    def size(self):\n",
    "        return len(self.container)\n",
    "        \n",
    "        "
   ]
  },
  {
   "cell_type": "code",
   "execution_count": 52,
   "id": "6face9fd",
   "metadata": {},
   "outputs": [],
   "source": [
    "q = Queue()\n",
    "q.enqueue(2)\n",
    "q.enqueue(5)\n",
    "q.enqueue(10)"
   ]
  },
  {
   "cell_type": "code",
   "execution_count": 58,
   "id": "49f43a54",
   "metadata": {},
   "outputs": [
    {
     "ename": "IndexError",
     "evalue": "pop from an empty deque",
     "output_type": "error",
     "traceback": [
      "\u001b[1;31m---------------------------------------------------------------------------\u001b[0m",
      "\u001b[1;31mIndexError\u001b[0m                                Traceback (most recent call last)",
      "\u001b[1;32mC:\\Users\\MAHESH~1\\AppData\\Local\\Temp/ipykernel_10056/637190519.py\u001b[0m in \u001b[0;36m<module>\u001b[1;34m\u001b[0m\n\u001b[1;32m----> 1\u001b[1;33m \u001b[0mq\u001b[0m\u001b[1;33m.\u001b[0m\u001b[0mdequeue\u001b[0m\u001b[1;33m(\u001b[0m\u001b[1;33m)\u001b[0m\u001b[1;33m\u001b[0m\u001b[1;33m\u001b[0m\u001b[0m\n\u001b[0m",
      "\u001b[1;32mC:\\Users\\MAHESH~1\\AppData\\Local\\Temp/ipykernel_10056/2149433812.py\u001b[0m in \u001b[0;36mdequeue\u001b[1;34m(self)\u001b[0m\n\u001b[0;32m      9\u001b[0m \u001b[1;33m\u001b[0m\u001b[0m\n\u001b[0;32m     10\u001b[0m     \u001b[1;32mdef\u001b[0m \u001b[0mdequeue\u001b[0m\u001b[1;33m(\u001b[0m\u001b[0mself\u001b[0m\u001b[1;33m)\u001b[0m\u001b[1;33m:\u001b[0m\u001b[1;33m\u001b[0m\u001b[1;33m\u001b[0m\u001b[0m\n\u001b[1;32m---> 11\u001b[1;33m         \u001b[1;32mreturn\u001b[0m \u001b[0mself\u001b[0m\u001b[1;33m.\u001b[0m\u001b[0mcontainer\u001b[0m\u001b[1;33m.\u001b[0m\u001b[0mpop\u001b[0m\u001b[1;33m(\u001b[0m\u001b[1;33m)\u001b[0m\u001b[1;33m\u001b[0m\u001b[1;33m\u001b[0m\u001b[0m\n\u001b[0m\u001b[0;32m     12\u001b[0m \u001b[1;33m\u001b[0m\u001b[0m\n\u001b[0;32m     13\u001b[0m     \u001b[1;32mdef\u001b[0m \u001b[0mis_empty\u001b[0m\u001b[1;33m(\u001b[0m\u001b[0mself\u001b[0m\u001b[1;33m)\u001b[0m\u001b[1;33m:\u001b[0m\u001b[1;33m\u001b[0m\u001b[1;33m\u001b[0m\u001b[0m\n",
      "\u001b[1;31mIndexError\u001b[0m: pop from an empty deque"
     ]
    }
   ],
   "source": [
    "q.dequeue()"
   ]
  },
  {
   "cell_type": "code",
   "execution_count": 59,
   "id": "dc3d2029",
   "metadata": {},
   "outputs": [
    {
     "data": {
      "text/plain": [
       "True"
      ]
     },
     "execution_count": 59,
     "metadata": {},
     "output_type": "execute_result"
    }
   ],
   "source": [
    "q.is_empty()"
   ]
  },
  {
   "cell_type": "code",
   "execution_count": 60,
   "id": "cdc13aa8",
   "metadata": {},
   "outputs": [
    {
     "data": {
      "text/plain": [
       "0"
      ]
     },
     "execution_count": 60,
     "metadata": {},
     "output_type": "execute_result"
    }
   ],
   "source": [
    "q.size()"
   ]
  },
  {
   "cell_type": "code",
   "execution_count": 61,
   "id": "3315d951",
   "metadata": {},
   "outputs": [],
   "source": [
    "q.enqueue({\n",
    "    \"company\": \"ML\",\n",
    "    \"timestamp\": \"11-10-2022 12:23\",\n",
    "    \"price\": 234.2\n",
    "})\n",
    "q.enqueue({\n",
    "    \"company\": \"ML\",\n",
    "    \"timestamp\": \"11-10-2022 14:23\",\n",
    "    \"price\" : 234\n",
    "})\n",
    "q.enqueue({\n",
    "    \"company\" : \"ML\",\n",
    "    \"timestamp\": \"11-11-2022 13:34\",\n",
    "    \"price\": 345\n",
    "})"
   ]
  },
  {
   "cell_type": "code",
   "execution_count": 62,
   "id": "02d7b471",
   "metadata": {},
   "outputs": [
    {
     "data": {
      "text/plain": [
       "deque([{'company': 'ML', 'timestamp': '11-11-2022 13:34', 'price': 345},\n",
       "       {'company': 'ML', 'timestamp': '11-10-2022 14:23', 'price': 234},\n",
       "       {'company': 'ML', 'timestamp': '11-10-2022 12:23', 'price': 234.2}])"
      ]
     },
     "execution_count": 62,
     "metadata": {},
     "output_type": "execute_result"
    }
   ],
   "source": [
    "q.container"
   ]
  },
  {
   "cell_type": "code",
   "execution_count": 64,
   "id": "bfbbdb6d",
   "metadata": {},
   "outputs": [
    {
     "data": {
      "text/plain": [
       "3"
      ]
     },
     "execution_count": 64,
     "metadata": {},
     "output_type": "execute_result"
    }
   ],
   "source": [
    "q.size()"
   ]
  },
  {
   "cell_type": "code",
   "execution_count": 65,
   "id": "ae025084",
   "metadata": {},
   "outputs": [
    {
     "data": {
      "text/plain": [
       "False"
      ]
     },
     "execution_count": 65,
     "metadata": {},
     "output_type": "execute_result"
    }
   ],
   "source": [
    "q.is_empty()"
   ]
  },
  {
   "cell_type": "code",
   "execution_count": 66,
   "id": "b4f688a3",
   "metadata": {},
   "outputs": [
    {
     "data": {
      "text/plain": [
       "{'company': 'ML', 'timestamp': '11-10-2022 12:23', 'price': 234.2}"
      ]
     },
     "execution_count": 66,
     "metadata": {},
     "output_type": "execute_result"
    }
   ],
   "source": [
    "q.dequeue()"
   ]
  },
  {
   "cell_type": "code",
   "execution_count": 67,
   "id": "9df2e374",
   "metadata": {},
   "outputs": [
    {
     "name": "stdout",
     "output_type": "stream",
     "text": [
      "1 10 11 100 101 110 111 1000 1001 1010 "
     ]
    }
   ],
   "source": [
    "# print a binary number from 1 to 10 using queue\n",
    "\n",
    "from collections import deque\n",
    "\n",
    "class Queue:\n",
    "    def __init__(self):\n",
    "        self.container = deque()\n",
    "        \n",
    "    def enqueue(self, data):\n",
    "        return self.container.appendleft(data)\n",
    "    \n",
    "    def dequeue(self):\n",
    "        return self.container.pop()\n",
    "        \n",
    "    def is_empty(self):\n",
    "        if len(self.container)==0:\n",
    "            return True\n",
    "        return False\n",
    "        \n",
    "    def size(self):\n",
    "        return len(self.container)\n",
    "        \n",
    "    def front(self):\n",
    "        return self.container[-1]\n",
    "\n",
    "def binarynumber(n):\n",
    "    q = Queue()\n",
    "    q.enqueue(\"1\")\n",
    "    for i in range(n):\n",
    "        front = q.front()\n",
    "        print(front, end=\" \")\n",
    "        q.enqueue(front+\"0\")\n",
    "        q.enqueue(front+\"1\")\n",
    "        q.dequeue()\n",
    "    \n",
    "n = 10\n",
    "bn = binarynumber(n)"
   ]
  },
  {
   "cell_type": "code",
   "execution_count": 8,
   "id": "e47caa5f",
   "metadata": {},
   "outputs": [],
   "source": [
    "# Implement stack using two Queues\n",
    "\n",
    "class Stack:\n",
    "    def __init__(self):\n",
    "        self.queue1 = []\n",
    "        self.queue2 = []\n",
    "        \n",
    "    def push(self, x):\n",
    "        self.queue1.append(x)\n",
    "        \n",
    "    def pop(self):\n",
    "        if len(self.queue1) == 0:\n",
    "            return -1\n",
    "        while len(self.queue1) > 1:\n",
    "            ele = self.queue1.pop(0)\n",
    "            self.queue2.append(ele)\n",
    "        \n",
    "        last_ele = self.queue1.pop()\n",
    "        \n",
    "        while len(self.queue2) > 0:\n",
    "            ele = self.queue1.pop(0)\n",
    "            self.queue1.append(ele)\n",
    "            \n",
    "        return last_ele\n",
    "    \n",
    "    def top(self):\n",
    "        return self.queue1[-1]\n",
    "    \n",
    "    def is_empty(self):\n",
    "        return True if len(self.queue1) == 0 else False"
   ]
  },
  {
   "cell_type": "code",
   "execution_count": 12,
   "id": "92f2c56e",
   "metadata": {},
   "outputs": [],
   "source": [
    "s = Stack()\n",
    "s.push(1)"
   ]
  },
  {
   "cell_type": "code",
   "execution_count": 13,
   "id": "b59a134c",
   "metadata": {},
   "outputs": [
    {
     "data": {
      "text/plain": [
       "1"
      ]
     },
     "execution_count": 13,
     "metadata": {},
     "output_type": "execute_result"
    }
   ],
   "source": [
    "s.top()"
   ]
  },
  {
   "cell_type": "code",
   "execution_count": 14,
   "id": "780bf0b9",
   "metadata": {},
   "outputs": [
    {
     "data": {
      "text/plain": [
       "1"
      ]
     },
     "execution_count": 14,
     "metadata": {},
     "output_type": "execute_result"
    }
   ],
   "source": [
    "s.pop()"
   ]
  },
  {
   "cell_type": "code",
   "execution_count": 15,
   "id": "5caf7678",
   "metadata": {},
   "outputs": [],
   "source": [
    "# Implement Queue using Stacks\n",
    "\n",
    "class MyQueue(object):\n",
    "\n",
    "    def __init__(self):\n",
    "        self.stack1 = []\n",
    "        self.stack2 = []\n",
    "\n",
    "    def push(self, x):\n",
    "        self.stack1.append(x)\n",
    "        \n",
    "\n",
    "    def pop(self):\n",
    "        \n",
    "        if len(self.stack1)==0:\n",
    "            return -1\n",
    "        \n",
    "        while (len(self.stack1)>1):\n",
    "            ele = self.stack1.pop()\n",
    "            self.stack2.append(ele)\n",
    "        \n",
    "        last_ele = self.stack1.pop()\n",
    "\n",
    "        while len(self.stack2) > 0:\n",
    "            ele = self.stack2.pop()\n",
    "            self.stack1.append(ele)\n",
    "\n",
    "        return last_ele\n",
    "        \n",
    "\n",
    "    def peek(self):\n",
    "        \"\"\"\n",
    "        returns the element which will be in the front\n",
    "        \"\"\"\n",
    "        return self.stack1[0]\n",
    "        \n",
    "\n",
    "    def empty(self):\n",
    "        \n",
    "        return True if len(self.stack1)==0 else False\n",
    "        \n",
    "\n"
   ]
  },
  {
   "cell_type": "code",
   "execution_count": null,
   "id": "b8d65f8d",
   "metadata": {},
   "outputs": [],
   "source": []
  }
 ],
 "metadata": {
  "kernelspec": {
   "display_name": "Python 3 (ipykernel)",
   "language": "python",
   "name": "python3"
  },
  "language_info": {
   "codemirror_mode": {
    "name": "ipython",
    "version": 3
   },
   "file_extension": ".py",
   "mimetype": "text/x-python",
   "name": "python",
   "nbconvert_exporter": "python",
   "pygments_lexer": "ipython3",
   "version": "3.9.7"
  }
 },
 "nbformat": 4,
 "nbformat_minor": 5
}
