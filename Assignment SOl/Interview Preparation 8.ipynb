{
 "cells": [
  {
   "cell_type": "markdown",
   "id": "e5893a60",
   "metadata": {},
   "source": [
    "**Kth smallest element [Amazon]**\n",
    "\n",
    "Given an array of n-elements and an integer k, find the kth smallest element present in an array.\n",
    "For example:\n",
    "arr = [40, 25, 68, 79, 52, 66, 89, 97]\n",
    "k = 2\n",
    "result = 40\n",
    "\n",
    "**Sort Colors [Amazon]**\n",
    "\n",
    "Given array nums with n objects colored red, white, or blue, sort them in place so that the objects of the same color are adjacent, with the colors in the order red, white, and blue.\n",
    "We will use the integers 0, 1, and 2 to represent the color red, white, and blue respectively.\n",
    "Solve this question without using the library sort function.\n",
    "For example:\n",
    "Nums = [2,0,2,1,1,0]\n",
    "Result = [0,0,1,1,2,2]\n",
    "\n",
    "**Kth Largest Element in an array [Facebook]**\n",
    "\n",
    "Given an integer array nums and an integer k, return the kth largest element present in an array.\n",
    "For example:\n",
    "arr = [40, 25, 68, 79, 52, 66, 89, 97]\n",
    "k = 2\n",
    "result = 89\n",
    "\n",
    "**Majority Element [Amazon, Google]**\n",
    "\n",
    "Given array nums of size n, return the majority element present in the array.\n",
    "Assume that the majority element always exists in an array.\n",
    "For example:\n",
    "Nums = [2, 2, 1, 1, 1, 2, ,2]\n",
    "Output: 2\n",
    "\n",
    "**Find of peak element [Facebook]**\n",
    "\n",
    "The peak element is the element that is strictly greater than its neighbors. If an array contains multiple peak elements, return the index of any of the peak elements.\n",
    "For example: [1,2,3,1]\n",
    "Output: 2\n"
   ]
  },
  {
   "cell_type": "code",
   "execution_count": 1,
   "id": "1af663eb",
   "metadata": {},
   "outputs": [
    {
     "name": "stdout",
     "output_type": "stream",
     "text": [
      "Kth smallest element is 40\n"
     ]
    }
   ],
   "source": [
    "# Kth smallest element in unsorted array.\n",
    "\n",
    "# Placing the pivot element at the right place in the array\n",
    "def partition(arr, l, r):\n",
    "    x = arr[r]\n",
    "    i = l\n",
    "    for j in range(l, r):\n",
    "        if (arr[j] <= x):\n",
    "            arr[i], arr[j] = arr[j], arr[i]\n",
    "            i += 1\n",
    "    arr[i], arr[r] = arr[r], arr[i]\n",
    "    return i\n",
    "\n",
    "def kthsmallest(arr, l, r, k):\n",
    "    if (l==r and l==k-1):\n",
    "        return arr[l]\n",
    "    if (l < r):\n",
    "        pivot = partition(arr, l, r) #This will return the position of pivot element\n",
    "        index = k-1\n",
    "        if (pivot == index):\n",
    "            return arr[k-1]\n",
    "        if (pivot < index):\n",
    "            return kthsmallest(arr, pivot + 1, r, k)\n",
    "        else:\n",
    "            return kthsmallest(arr, l, pivot-1, k)\n",
    "\n",
    "\n",
    "if __name__ == '__main__':\n",
    " \n",
    "    arr = [40, 25, 68, 79, 52, 66, 89, 97]\n",
    "    n = len(arr)\n",
    "    k = 2\n",
    "    print(\"Kth smallest element is\",kthsmallest(arr, 0, n - 1, k))\n"
   ]
  },
  {
   "cell_type": "code",
   "execution_count": 23,
   "id": "80a57ad0",
   "metadata": {},
   "outputs": [
    {
     "name": "stdout",
     "output_type": "stream",
     "text": [
      "Kth largest element is 89\n"
     ]
    }
   ],
   "source": [
    "# Kth largest element in the array\n",
    "\n",
    "def partition(arr, l, r):\n",
    "    x = arr[r]\n",
    "    i = l\n",
    "    for j in range(l, r):\n",
    "        if (arr[j] <= x):\n",
    "            arr[i], arr[j] = arr[j], arr[i]\n",
    "            i += 1\n",
    "    arr[i], arr[r] = arr[r], arr[i]\n",
    "    return i\n",
    "\n",
    "def kthlargest(arr, l, r, k):\n",
    "    if (l==r and l==k-1):\n",
    "        return arr[l]\n",
    "    if (l < r):\n",
    "        pivot = partition(arr, l, r) #This will return the position of pivot element\n",
    "        index = k\n",
    "        if (pivot == index):\n",
    "            return arr[-k]\n",
    "        if (pivot < index):\n",
    "            return kthlargest(arr, pivot + 1, r, k)\n",
    "        else:\n",
    "            return kthlargest(arr, l, pivot-1, k)\n",
    "\n",
    "\n",
    "if __name__ == '__main__':\n",
    " \n",
    "    arr = [40, 25, 68, 79, 52, 66, 89, 97]\n",
    "    n = len(arr)\n",
    "    k = 2\n",
    "    print(\"Kth largest element is\",kthlargest(arr, 0, n - 1, k))"
   ]
  },
  {
   "cell_type": "code",
   "execution_count": 3,
   "id": "5aad827b",
   "metadata": {},
   "outputs": [
    {
     "name": "stdout",
     "output_type": "stream",
     "text": [
      "Sorted colors are:  [0, 0, 1, 1, 2, 2]\n"
     ]
    }
   ],
   "source": [
    "# Two sorted colors in the array\n",
    "# Time complexity will be: O(n), SC: O(1)\n",
    "\n",
    "def colorsort(arr):\n",
    "    curr = 0\n",
    "    p0 = 0\n",
    "    p1 = 0\n",
    "    p2 = len(arr) - 1\n",
    "    while(curr <= p2):\n",
    "        if arr[curr] == 0:\n",
    "            arr[p0], arr[curr] = arr[curr], arr[p0]\n",
    "            p0 += 1\n",
    "            curr += 1\n",
    "        if arr[curr] == 2:\n",
    "            arr[p2], arr[curr] = arr[curr], arr[p2]\n",
    "            p2 -= 1\n",
    "        else:\n",
    "            curr += 1\n",
    "    return arr\n",
    "        \n",
    "if __name__==\"__main__\":\n",
    "    arr = [2,0,2,1,1,0]\n",
    "    color = colorsort(arr)\n",
    "    print(\"Sorted colors are: \", color)"
   ]
  },
  {
   "cell_type": "code",
   "execution_count": 4,
   "id": "25692f1d",
   "metadata": {},
   "outputs": [
    {
     "name": "stdout",
     "output_type": "stream",
     "text": [
      "Majority element is: 2\n"
     ]
    }
   ],
   "source": [
    "# Finding the majority element in the array.\n",
    "# Time complexity will be : O(n)\n",
    "\n",
    "def majorityele(arr):\n",
    "    count = 1\n",
    "    majority = 0\n",
    "    for i in range(len(arr)-1):\n",
    "        if arr[i] == arr[i+1]:\n",
    "            majority = arr[i]\n",
    "            count += 1\n",
    "        elif arr[i] < arr[i+1]:\n",
    "            count -= 1\n",
    "    return majority\n",
    "#     print(count)\n",
    "#     print(majority)\n",
    "\n",
    "if __name__ == \"__main__\":\n",
    "    arr = [2,2,1,1,1,2,2]\n",
    "    majority = majorityele(arr)\n",
    "    print(\"Majority element is:\", majority)"
   ]
  },
  {
   "cell_type": "code",
   "execution_count": 6,
   "id": "0416fce4",
   "metadata": {},
   "outputs": [
    {
     "name": "stdout",
     "output_type": "stream",
     "text": [
      "The Peak element index is:  2\n"
     ]
    }
   ],
   "source": [
    "# Finding the peak element in the array.\n",
    "# In Logarithmix time complexity\n",
    "# Time complexity will be O(logn)\n",
    "\n",
    "\n",
    "def peakelement(arr, left, right):\n",
    "    \n",
    "    if arr[0] > arr[-1]:\n",
    "        return 0 \n",
    "    while left < right:\n",
    "        mid = left + (right-left)//2\n",
    "        if arr[mid] < arr[mid + 1]:\n",
    "            left = mid + 1\n",
    "        else:\n",
    "            right = mid\n",
    "    return right\n",
    "    \n",
    "if __name__==\"__main__\":\n",
    "    arr = [1,2,3,1]\n",
    "    left = 0\n",
    "    right = len(arr)-1\n",
    "    peak = peakelement(arr, left, right)\n",
    "    print(\"The Peak element index is: \", peak)"
   ]
  },
  {
   "cell_type": "code",
   "execution_count": null,
   "id": "1e8de3b5",
   "metadata": {},
   "outputs": [],
   "source": []
  }
 ],
 "metadata": {
  "kernelspec": {
   "display_name": "Python 3 (ipykernel)",
   "language": "python",
   "name": "python3"
  },
  "language_info": {
   "codemirror_mode": {
    "name": "ipython",
    "version": 3
   },
   "file_extension": ".py",
   "mimetype": "text/x-python",
   "name": "python",
   "nbconvert_exporter": "python",
   "pygments_lexer": "ipython3",
   "version": "3.9.7"
  }
 },
 "nbformat": 4,
 "nbformat_minor": 5
}
