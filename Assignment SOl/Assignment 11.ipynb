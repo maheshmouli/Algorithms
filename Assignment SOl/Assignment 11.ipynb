{
 "cells": [
  {
   "cell_type": "code",
   "execution_count": 10,
   "id": "71e30840",
   "metadata": {},
   "outputs": [
    {
     "name": "stdout",
     "output_type": "stream",
     "text": [
      "Top Element is 4\n",
      "Deleted element is 4\n"
     ]
    }
   ],
   "source": [
    "\"\"\"\n",
    "Implement Stack using Queues(Amazon and Microsoft)\n",
    "Implement a LIFO stack using only two queues. The implemented stack should support all the\n",
    "functions of a usual stack (push, pop, top, empty)\n",
    "Implement MyStack class:\n",
    "● void push(int x) Pushes element x to the top of the stack.\n",
    "● int pop() Removes the element on the top of the stack and returns it.\n",
    "● int top() Returns the element on the top of the stack.\n",
    "● boolean empty() Returns true if the stack is empty, false otherwise.\n",
    "\"\"\"\n",
    "\n",
    "class Stack:\n",
    "    def __init__(self):\n",
    "        self.queue1 = []\n",
    "        self.queue2 = []\n",
    "        \n",
    "    def push(self, x):\n",
    "        self.queue1.append(x)\n",
    "        \n",
    "    def pop(self):\n",
    "        if len(self.queue1) == 0:\n",
    "            return -1\n",
    "        while len(self.queue1) > 1:\n",
    "            ele = self.queue1.pop(0)\n",
    "            self.queue2.append(ele)\n",
    "        \n",
    "        last_ele = self.queue1.pop()\n",
    "        \n",
    "        while len(self.queue2) > 0:\n",
    "            ele = self.queue2.pop(0)\n",
    "            self.queue1.append(ele)\n",
    "            \n",
    "        return last_ele\n",
    "    \n",
    "    def top(self):\n",
    "        return self.queue1[-1]\n",
    "    \n",
    "    def is_empty(self):\n",
    "        return True if len(self.queue1) == 0 else False\n",
    "    \n",
    "if __name__==\"__main__\":\n",
    "    s = Stack()\n",
    "    s.push(1)\n",
    "    s.push(2)\n",
    "    s.push(3)\n",
    "    s.push(4)\n",
    "    print(\"Top Element is\",s.top())\n",
    "    print(\"Deleted element is\",s.pop())\n",
    "    s.is_empty()\n",
    "    "
   ]
  },
  {
   "cell_type": "code",
   "execution_count": 12,
   "id": "f9907306",
   "metadata": {},
   "outputs": [
    {
     "name": "stdout",
     "output_type": "stream",
     "text": [
      "Front element is 2\n",
      "Deleted Element is 2\n"
     ]
    }
   ],
   "source": [
    "\"\"\"\n",
    "Implement Queue using Stack (Amazon)\n",
    "Implement a first in first out (FIFO) queue using only two stacks. The implemented queue should\n",
    "support a normal queue's functions (push, peek, pop, and empty).\n",
    "Implement the MyQueue class:\n",
    "● void push(int x) Pushes element x to the back of the queue.\n",
    "● int pop() Removes the element from the front of the queue and returns it.\n",
    "● int peek() Returns the element at the front of the queue.\n",
    "● boolean empty() Returns true if the queue is empty, false otherwise.\n",
    "\"\"\"\n",
    "# Implement Queue using Stacks[Amazon] - using Two Stacks\n",
    "\n",
    "class MyQueue(object):\n",
    "\n",
    "    def __init__(self):\n",
    "        self.stack1 = []\n",
    "        self.stack2 = []\n",
    "\n",
    "    def push(self, x):\n",
    "        self.stack1.append(x)\n",
    "        \n",
    "\n",
    "    def pop(self):\n",
    "        \n",
    "        if len(self.stack1)==0:\n",
    "            return -1\n",
    "        \n",
    "        while (len(self.stack1)>1):\n",
    "            ele = self.stack1.pop()\n",
    "            self.stack2.append(ele)\n",
    "        \n",
    "        last_ele = self.stack1.pop()\n",
    "\n",
    "        while len(self.stack2) > 0:\n",
    "            ele = self.stack2.pop()\n",
    "            self.stack1.append(ele)\n",
    "\n",
    "        return last_ele\n",
    "        \n",
    "\n",
    "    def peek(self):\n",
    "        \"\"\"\n",
    "        returns the element which will be in the front\n",
    "        \"\"\"\n",
    "        return self.stack1[0]\n",
    "        \n",
    "\n",
    "    def empty(self):\n",
    "        \n",
    "        return True if len(self.stack1)==0 else False\n",
    "        \n",
    "if __name__==\"__main__\":\n",
    "    mq = MyQueue()\n",
    "    mq.push(2)\n",
    "    mq.push(5)\n",
    "    mq.push(10)\n",
    "    print(\"Front element is\",mq.peek())\n",
    "    print(\"Deleted Element is\",mq.pop())\n",
    "    mq.empty()\n"
   ]
  },
  {
   "cell_type": "code",
   "execution_count": null,
   "id": "4433326f",
   "metadata": {},
   "outputs": [],
   "source": []
  }
 ],
 "metadata": {
  "kernelspec": {
   "display_name": "Python 3 (ipykernel)",
   "language": "python",
   "name": "python3"
  },
  "language_info": {
   "codemirror_mode": {
    "name": "ipython",
    "version": 3
   },
   "file_extension": ".py",
   "mimetype": "text/x-python",
   "name": "python",
   "nbconvert_exporter": "python",
   "pygments_lexer": "ipython3",
   "version": "3.9.7"
  }
 },
 "nbformat": 4,
 "nbformat_minor": 5
}
