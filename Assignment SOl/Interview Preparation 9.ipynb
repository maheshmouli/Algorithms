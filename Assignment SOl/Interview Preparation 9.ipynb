{
 "cells": [
  {
   "cell_type": "markdown",
   "id": "da272e49",
   "metadata": {},
   "source": [
    "**Strassen’s Matrix Multiplication (Exploration)**\n",
    "\n",
    "Given two square matrices of size A and B of size n * n, find their matrix multiplication. [Hint: Try to solve the given problem using the Divide and Conquer Approach]\n",
    "\n",
    "**Median of Two Sorted Arrays (Apple)**\n",
    "\n",
    "Given two sorted arrays num1 and num2 of size m and n respectively, return the median of the two sorted arrays.\n",
    "\n",
    "**Pow(x,n) (Facebook)**\n",
    "\n",
    "Implement pow(x,n) which calculates x raised to the power n (i.e. x^n)\n",
    "For example: x = 2.00000, n = -2\n",
    "Output: 0.25000\n",
    "Explanation: 2^-2 =½^2 = ¼ = 0.25\n",
    "\n",
    "**Divide Two Integers (Facebook)**\n",
    "\n",
    "Given two integers, dividend and divisor, divide the two integers without using multiplication, division, and mod operator.\n"
   ]
  },
  {
   "cell_type": "code",
   "execution_count": 19,
   "id": "c9107e13",
   "metadata": {},
   "outputs": [
    {
     "name": "stdout",
     "output_type": "stream",
     "text": [
      "Median of Two sorted arrays is:  33\n"
     ]
    }
   ],
   "source": [
    "# Median of two sorted arrays\n",
    "# Running time complexity will be O(n+m)\n",
    "\n",
    "def medianarrays(arr1, arr2):\n",
    "    i = 0\n",
    "    j = 0\n",
    "    m1 = 0\n",
    "    m2 = 0\n",
    "    n1 = len(arr1)\n",
    "    n2 = len(arr2)\n",
    "    \n",
    "    for k in range(((n1+n2)//2)+ 1):\n",
    "        if (i != n1 and j != n2):\n",
    "            if arr1[i] > arr2[j]:\n",
    "                m1 = arr2[j]\n",
    "                j +=1\n",
    "            else:\n",
    "                m1 = arr1[i]\n",
    "                i += 1\n",
    "        elif (i < n1):\n",
    "            m1 = arr1[i]\n",
    "            i += 1\n",
    "        else:\n",
    "            m1 = arr2[j]\n",
    "            j += 1\n",
    "        \n",
    "    if (n1 + n2)% 2 == 1:\n",
    "        return m1\n",
    "    else:\n",
    "        return (m1 + m2)//2\n",
    "            \n",
    "\n",
    "if __name__==\"__main__\":\n",
    "    arr1 = [20,25,30,35,40,45,47]\n",
    "    arr2 = [15, 19, 22, 33, 36, 50]\n",
    "    \n",
    "    median_arrays = medianarrays(arr1, arr2)\n",
    "    print(\"Median of Two sorted arrays is: \", median_arrays)"
   ]
  },
  {
   "cell_type": "code",
   "execution_count": 6,
   "id": "2cf318f8",
   "metadata": {},
   "outputs": [
    {
     "name": "stdout",
     "output_type": "stream",
     "text": [
      "2 Power 4 is 16\n"
     ]
    }
   ],
   "source": [
    "#Finding the power of an element using recursive approach.\n",
    "# Running time will be O(log n)\n",
    "\n",
    "def powerelement(a, n):\n",
    "    if n==0:\n",
    "        return 1\n",
    "    elif n==1:\n",
    "        return a\n",
    "    elif n < 0:\n",
    "        a = 1/a\n",
    "        n = -n\n",
    "        return powerelement(a, n)\n",
    "    else:\n",
    "        mid = n//2\n",
    "        b = powerelement(a, mid)\n",
    "        power = b * b\n",
    "        if n % 2 == 0:\n",
    "            return power\n",
    "        else:\n",
    "            return power * a\n",
    "    return -1\n",
    "if __name__ == \"__main__\":\n",
    "    a = 2\n",
    "    n = 4\n",
    "    power_ele = powerelement(a, n)\n",
    "    print(\"{} Power {} is {}\".format(a, n, power_ele))"
   ]
  },
  {
   "cell_type": "code",
   "execution_count": 8,
   "id": "f95ba1e0",
   "metadata": {},
   "outputs": [
    {
     "name": "stdout",
     "output_type": "stream",
     "text": [
      "Matrix Multiplication:\n",
      "[[48 46 44 42]\n",
      " [64 63 62 61]\n",
      " [80 80 80 80]\n",
      " [80 75 70 65]]\n"
     ]
    }
   ],
   "source": [
    "# Strassen’s Matrix Multiplication\n",
    "# Running time will O(n^2.81)\n",
    "\n",
    "import numpy as np\n",
    "\n",
    "def divide(matrix):\n",
    "    rows, columns = matrix.shape\n",
    "    row1, column1 = rows//2, columns//2\n",
    "    return matrix[:row1, :column1], matrix[:row1, column1:], matrix[row1:, :column1], matrix[row1:, column1:]\n",
    "    \n",
    "def strassen_multi(A, B):\n",
    "    \n",
    "    if len(A) == 1:\n",
    "        return A * B\n",
    "    \n",
    "    a, b, c, d = divide(A)\n",
    "    e, f, g, h = divide(B)\n",
    "    \n",
    "    p1 = strassen_multi(a, f - h)\n",
    "    p2 = strassen_multi(a + b, h)\n",
    "    p3 = strassen_multi(c + d, e)\n",
    "    p4 = strassen_multi(d, g - e)\n",
    "    p5 = strassen_multi(a + d, e + h)\n",
    "    p6 = strassen_multi(b - d, g + h)\n",
    "    p7 = strassen_multi(a - c, e + f)\n",
    "    \n",
    "    c11 = p5 + p4 - p2 + p6\n",
    "    c12 = p1 + p2\n",
    "    c21 = p3 + p4\n",
    "    c22 = p1 + p5 - p3 - p7\n",
    "    \n",
    "    c = np.vstack((np.hstack((c11, c12)), np.hstack((c21, c22))))\n",
    "    \n",
    "    return c\n",
    "    \n",
    "\n",
    "if __name__==\"__main__\":\n",
    "    A = np.array([[1,2,3,4],[2,3,4,5],[3,4,5,6],[1,3,5,7]])\n",
    "    B = np.array([[2,3,4,5],[3,4,5,6],[4,5,6,7],[7,5,3,1]])\n",
    "    print(\"Matrix Multiplication:\")\n",
    "    print(strassen_multi(A, B))\n",
    "    \n",
    "\n"
   ]
  },
  {
   "cell_type": "code",
   "execution_count": 9,
   "id": "468484b3",
   "metadata": {},
   "outputs": [
    {
     "name": "stdout",
     "output_type": "stream",
     "text": [
      "The division of two integers will be 8\n"
     ]
    }
   ],
   "source": [
    "# Divide two integers without using dividing, multipication and modulo operator.\n",
    "# Running time will be O(n)\n",
    "\n",
    "def division_two_int(dividend, divisor):\n",
    "    \n",
    "    divid = abs(dividend)\n",
    "    divis = abs(divisor)\n",
    "    \n",
    "    result = 0\n",
    "    while divid >= divis:\n",
    "        shift = 0\n",
    "        while divid >= (divis << shift):\n",
    "            shift += 1\n",
    "            result += (1 << (shift - 1))\n",
    "            divid -= divis << (shift - 1)\n",
    "            \n",
    "            if (divid < 0 and divis >= 0) or (divis < 0 and divid >= 0):\n",
    "                result -= result\n",
    "                \n",
    "    return min(21472483647, max(-21472483647, result))\n",
    "\n",
    "if __name__ == \"__main__\":\n",
    "    div = division_two_int(16, 2)\n",
    "    print(\"The division of two integers will be {}\".format(div))"
   ]
  },
  {
   "cell_type": "code",
   "execution_count": null,
   "id": "e7435856",
   "metadata": {},
   "outputs": [],
   "source": []
  }
 ],
 "metadata": {
  "kernelspec": {
   "display_name": "Python 3 (ipykernel)",
   "language": "python",
   "name": "python3"
  },
  "language_info": {
   "codemirror_mode": {
    "name": "ipython",
    "version": 3
   },
   "file_extension": ".py",
   "mimetype": "text/x-python",
   "name": "python",
   "nbconvert_exporter": "python",
   "pygments_lexer": "ipython3",
   "version": "3.9.7"
  }
 },
 "nbformat": 4,
 "nbformat_minor": 5
}
