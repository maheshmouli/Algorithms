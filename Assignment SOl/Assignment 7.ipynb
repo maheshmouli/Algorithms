{
 "cells": [
  {
   "cell_type": "code",
   "execution_count": 1,
   "id": "f87afe52",
   "metadata": {},
   "outputs": [
    {
     "name": "stdout",
     "output_type": "stream",
     "text": [
      "The closest sum is:  4\n"
     ]
    }
   ],
   "source": [
    "\"\"\"\n",
    "1. Given an integer array nums of length n and an integer target, find three integers in nums\n",
    "such that the sum is closest to the target.[Amazon]\n",
    "You need to return the sum of three integers.\n",
    "For example:arr = [-1, 2, 1, -4], target = 1\n",
    "Output: 2\n",
    "Explanation: [-1+2+1] = 2 (The sum that is closest to the target is 2)\n",
    "\"\"\"\n",
    "\n",
    "def closestsum(arr, target):\n",
    "    temp = abs(target*1000000) #this gives a absolute value of a number. \n",
    "    n = len(arr)\n",
    "    arr.sort()\n",
    "    for i in range(n-2):\n",
    "        l = i+1\n",
    "        r = n-1\n",
    "        while l < r:\n",
    "            sumvalue = arr[i]+arr[l]+arr[r]\n",
    "            if (abs(target - sumvalue) < abs(target - temp)):\n",
    "                temp = sumvalue\n",
    "            elif sumvalue > target:\n",
    "                r -= 1\n",
    "            else:\n",
    "                l += 1\n",
    "    return temp\n",
    "        \n",
    "    \n",
    "if __name__==\"__main__\":\n",
    "    arr = [-1, 2, 6, -4]\n",
    "    target = 5\n",
    "    cl_sum = closestsum(arr, target)\n",
    "    print(\"The closest sum is: \", cl_sum)"
   ]
  },
  {
   "cell_type": "code",
   "execution_count": 2,
   "id": "62b8b46e",
   "metadata": {},
   "outputs": [
    {
     "name": "stdout",
     "output_type": "stream",
     "text": [
      "The K closest points are:  [[3, 3], [-2, 4]]\n"
     ]
    }
   ],
   "source": [
    "\"\"\"\n",
    "2. Given three points, check whether they lie on a straight (collinear) or not. [Google]\n",
    "For example:\n",
    "Input- [(1,1), (1,6), (0,9)]\n",
    "Output- No\n",
    "Input- [(1,1), (1,4), (1,5)]\n",
    "Output- Yes\n",
    "\"\"\"\n",
    "#K closest Points to the origin\n",
    "import heapq\n",
    "import math\n",
    "def Kclosest(points, K):\n",
    "    \n",
    "    min_heap = []\n",
    "    n = len(points)\n",
    "    \n",
    "    for i in range(n):\n",
    "        x = points[i][0]\n",
    "        y = points[i][1]\n",
    "        \n",
    "        heapq.heappush(min_heap, (math.sqrt(x**2 + y**2), points[i]))\n",
    "        \n",
    "    result = []\n",
    "    \n",
    "    for i in range(K):\n",
    "        result.append(heapq.heappop(min_heap)[1])\n",
    "    return result\n",
    "if __name__ ==\"__main__\":\n",
    "    points = [[3,3],[5,-1],[-2,4]]\n",
    "    K = 2\n",
    "    finalpoints = Kclosest(points, K)\n",
    "    print(\"The K closest points are: \", finalpoints)\n",
    "    "
   ]
  },
  {
   "cell_type": "code",
   "execution_count": 3,
   "id": "3f05b807",
   "metadata": {},
   "outputs": [
    {
     "name": "stdout",
     "output_type": "stream",
     "text": [
      "['greenPants']\n"
     ]
    }
   ],
   "source": [
    "\"\"\"\n",
    "3. An e-commerce site tracks the purchases made each day. The product that is purchased\n",
    "the most one day is the featured product for the following day. If there is a tie for the product\n",
    "purchased most frequently, those product names are ordered alphabetically ascending and\n",
    "the last name in the list is chosen.[Amazon]\n",
    "['yellowShirt', 'redHat', 'blackShirt', 'bluePants', 'redHat','pinkHat', 'blackShirt', 'yellowShirt',\n",
    "'greenPants', 'greenPants', 'greenPants']\n",
    "'yellowShirt' - 2\n",
    "'redHat' - 2\n",
    "'blackShirt' - 2\n",
    "'bluePants' - 1\n",
    "'greenPants' - 3\n",
    "'pinkHat' - 1\n",
    "Output - greenPants\n",
    "\"\"\"\n",
    "\n",
    "products = ['yellowShirt', 'redHat', 'blackShirt', 'bluePants', 'redHat','pinkHat', 'blackShirt', 'yellowShirt',\n",
    "'greenPants', 'greenPants', 'greenPants']\n",
    "# products.sort()\n",
    "product_count = dict((x, products.count(x))for x in set(products))\n",
    "new_list = []\n",
    "max=0\n",
    "for i in product_count:\n",
    "    if max < product_count[i]:\n",
    "        max = product_count[i]\n",
    "# print(max)\n",
    "for i, j in product_count.items():\n",
    "    if max == j:\n",
    "        new_list.append(i)\n",
    "        \n",
    "new_list.sort()\n",
    "print(new_list)"
   ]
  },
  {
   "cell_type": "code",
   "execution_count": null,
   "id": "04f0c3ec",
   "metadata": {},
   "outputs": [],
   "source": []
  }
 ],
 "metadata": {
  "kernelspec": {
   "display_name": "Python 3 (ipykernel)",
   "language": "python",
   "name": "python3"
  },
  "language_info": {
   "codemirror_mode": {
    "name": "ipython",
    "version": 3
   },
   "file_extension": ".py",
   "mimetype": "text/x-python",
   "name": "python",
   "nbconvert_exporter": "python",
   "pygments_lexer": "ipython3",
   "version": "3.9.7"
  }
 },
 "nbformat": 4,
 "nbformat_minor": 5
}
