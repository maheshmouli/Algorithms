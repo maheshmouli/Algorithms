{
 "cells": [
  {
   "cell_type": "code",
   "execution_count": 4,
   "id": "84b7b080",
   "metadata": {},
   "outputs": [
    {
     "data": {
      "text/plain": [
       "True"
      ]
     },
     "execution_count": 4,
     "metadata": {},
     "output_type": "execute_result"
    }
   ],
   "source": [
    "# Getting the perect square using Binary Search.\n",
    "# Running time of the algorithm will be O (log n)\n",
    "\n",
    "def perfectsquare(x):\n",
    "    l = 0\n",
    "    h = x\n",
    "    while (l<=h):\n",
    "        mid = (l+h)// 2\n",
    "#         print(mid)\n",
    "        if ((mid * mid)==x):\n",
    "            return True\n",
    "        \n",
    "        if (mid * mid < x):\n",
    "            l = mid + 1\n",
    "        else:\n",
    "            h = mid - 1\n",
    "    return False\n",
    "\n",
    "perfectsquare(36)"
   ]
  },
  {
   "cell_type": "code",
   "execution_count": 3,
   "id": "9cc4cdbc",
   "metadata": {},
   "outputs": [
    {
     "name": "stdout",
     "output_type": "stream",
     "text": [
      "Starting of the index is :  3\n"
     ]
    }
   ],
   "source": [
    "# Finding the first bad version of the product in the array.\n",
    "# Running time will be O(logn)\n",
    "\n",
    "def starting_index(arr, left, right, key, mid):\n",
    "    \n",
    "    while(left<=right):\n",
    "        if (arr[mid]==key):\n",
    "            return starting_index(arr, left, right, key, mid-1)\n",
    "        elif (arr[mid-1] > key):\n",
    "            return mid\n",
    "        elif (arr[mid+1] > 0):\n",
    "            return mid+1\n",
    "        elif (arr[mid]==0):\n",
    "            return starting_index(arr, left, right, key, mid+1)\n",
    "        elif (arr[mid]<key):\n",
    "            return starting_index(arr, mid+1, right, mid, key)\n",
    "        else:\n",
    "            return starting_index(arr, left, mid-1, key)\n",
    "            \n",
    "if __name__==\"__main__\":\n",
    "    arr = [0,0,0,1,1,1,1,1,1]\n",
    "    n = len(arr)\n",
    "    left = 0\n",
    "    right = n-1\n",
    "    mid = left + (right-left)//2\n",
    "    key=1\n",
    "    starti = starting_index(arr, left, right, key, mid)\n",
    "    print(\"Starting of the index is : \", starti)"
   ]
  },
  {
   "cell_type": "code",
   "execution_count": 12,
   "id": "937ef833",
   "metadata": {},
   "outputs": [
    {
     "name": "stdout",
     "output_type": "stream",
     "text": [
      "Square Root is: 2\n"
     ]
    }
   ],
   "source": [
    "\"\"\"Compute and return the square root of x, where x is guaranteed to be a non-negative\n",
    "integer. And since the return type is an integer, the decimal digits are truncated and only\n",
    "the integer part of the result is returned. Also, talk about the time complexity of your\n",
    "code.\n",
    "Test Cases:\n",
    "Input: 4\n",
    "Output: 2\n",
    "Input: 8\n",
    "Output: 2\n",
    "Explanation: The square root of 8 is 2.8284...., the decimal part is truncated and 2 is\n",
    "returned.\"\"\"\n",
    "\n",
    "# Time complexity for running code will be O(log n)\n",
    "\n",
    "import math\n",
    "\n",
    "def square(x, i, j):\n",
    "    \n",
    "    mid = (i + j)/2\n",
    "    \n",
    "    multi = mid * mid\n",
    "    if ((multi == x) or (abs(multi-x) < 0.00001)):\n",
    "        return mid\n",
    "    elif (multi < x):\n",
    "        return square(x, mid, j)\n",
    "    else:\n",
    "        return square(x, i, mid)\n",
    "    \n",
    "def squareroot(x):\n",
    "    i = 1\n",
    "    flag = False\n",
    "    sqrt = 0\n",
    "    while (flag==False):\n",
    "        squares = i * i \n",
    "        if (squares == x):\n",
    "            sqrt = i\n",
    "            flag = True\n",
    "\n",
    "        elif (squares > x):\n",
    "            result = square(x, i-1, i)\n",
    "            sqrt = math.trunc(result)\n",
    "#             print(result)\n",
    "            flag = True\n",
    "        i += 1\n",
    "    return sqrt\n",
    "\n",
    "print(\"Square Root is:\", squareroot(6))\n",
    "    \n"
   ]
  },
  {
   "cell_type": "code",
   "execution_count": null,
   "id": "4ccea472",
   "metadata": {},
   "outputs": [],
   "source": []
  }
 ],
 "metadata": {
  "kernelspec": {
   "display_name": "Python 3 (ipykernel)",
   "language": "python",
   "name": "python3"
  },
  "language_info": {
   "codemirror_mode": {
    "name": "ipython",
    "version": 3
   },
   "file_extension": ".py",
   "mimetype": "text/x-python",
   "name": "python",
   "nbconvert_exporter": "python",
   "pygments_lexer": "ipython3",
   "version": "3.9.7"
  }
 },
 "nbformat": 4,
 "nbformat_minor": 5
}
