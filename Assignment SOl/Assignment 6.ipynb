{
 "cells": [
  {
   "cell_type": "code",
   "execution_count": 7,
   "id": "2134da48",
   "metadata": {},
   "outputs": [
    {
     "name": "stdout",
     "output_type": "stream",
     "text": [
      "Min Heap is:  [1, 3, 7, 8, 9, 10, 12, 16, 18, 22, 27]\n"
     ]
    }
   ],
   "source": [
    "#Create a buildHeap method that returns a minheap.\n",
    "\n",
    "def heapify(arr, n, i):\n",
    "    smallest = i\n",
    "    left_child = 2*i+1\n",
    "    right_child = 2*i+2\n",
    "    if left_child<n and arr[left_child] > arr[smallest]:\n",
    "        smallest = left_child\n",
    "    if right_child<n and arr[right_child] > arr[smallest]:\n",
    "        smallest = right_child\n",
    "    if smallest != i:\n",
    "        arr[i], arr[smallest] = arr[smallest], arr[i]\n",
    "        heapify(arr, n, smallest)\n",
    "\n",
    "def buildheap(arr, n):\n",
    "    start_index = n//2 - 1 #Non-Leaf Node\n",
    "    for i in range(start_index, -1, -1):\n",
    "        heapify(arr, n, i)\n",
    "    for i in range(n-1, 0, -1):\n",
    "        arr[i], arr[0] = arr[0], arr[i]\n",
    "        heapify(arr, i, 0)\n",
    "    return arr\n",
    "\n",
    "if __name__==\"__main__\":\n",
    "    arr = [1, 3, 7, 9, 12, 10, 8, 16, 18, 22, 27]\n",
    "    n = len(arr)\n",
    "    mh = buildheap(arr, n)\n",
    "    print(\"Min Heap is: \", mh)"
   ]
  },
  {
   "cell_type": "code",
   "execution_count": 8,
   "id": "f5b32e57",
   "metadata": {},
   "outputs": [
    {
     "name": "stdout",
     "output_type": "stream",
     "text": [
      "['arpit', 'priya']\n"
     ]
    }
   ],
   "source": [
    "# Given an array of strings words and an integer k, return the k most frequent words.\n",
    "# Your output should be in lexicographical order.\n",
    "\n",
    "words = ['priya', 'bhatia', 'akshay', 'arpit', 'priya', 'arpit']\n",
    "word_count = dict((x, words.count(x))for x in set(words))\n",
    "new_list = []\n",
    "max=0\n",
    "for i in word_count:\n",
    "    if max < word_count[i]:\n",
    "        max = word_count[i]\n",
    "# print(max)\n",
    "for i, j in word_count.items():\n",
    "    if max == j:\n",
    "        new_list.append(i)\n",
    "        \n",
    "new_list.sort()\n",
    "print(new_list)"
   ]
  },
  {
   "cell_type": "code",
   "execution_count": 10,
   "id": "68ba7842",
   "metadata": {},
   "outputs": [
    {
     "name": "stdout",
     "output_type": "stream",
     "text": [
      "The k closest points are:  [[-2, 2]]\n"
     ]
    }
   ],
   "source": [
    "# Find the k closest points to the origin\n",
    "\n",
    "import heapq\n",
    "import math\n",
    "\n",
    "def kclosestpoints(points, k):\n",
    "    \n",
    "    min_heap = []\n",
    "    n = len(points)\n",
    "    \n",
    "    for i in range(n):\n",
    "        x = points[i][0]\n",
    "        y = points[i][1]\n",
    "        heapq.heappush(min_heap, (math.sqrt(x**2+ y**2), points[i]))\n",
    "        \n",
    "    result = []\n",
    "    \n",
    "    for i in range(k):\n",
    "        result.append(heapq.heappop(min_heap)[1])\n",
    "    return result\n",
    "\n",
    "if __name__==\"__main__\":\n",
    "    points = [[1,3],[-2,2]]\n",
    "    k = 1\n",
    "    closest_points = kclosestpoints(points, k)\n",
    "    print(\"The k closest points are: \", closest_points)"
   ]
  },
  {
   "cell_type": "code",
   "execution_count": null,
   "id": "36053d2c",
   "metadata": {},
   "outputs": [],
   "source": []
  }
 ],
 "metadata": {
  "kernelspec": {
   "display_name": "Python 3 (ipykernel)",
   "language": "python",
   "name": "python3"
  },
  "language_info": {
   "codemirror_mode": {
    "name": "ipython",
    "version": 3
   },
   "file_extension": ".py",
   "mimetype": "text/x-python",
   "name": "python",
   "nbconvert_exporter": "python",
   "pygments_lexer": "ipython3",
   "version": "3.9.7"
  }
 },
 "nbformat": 4,
 "nbformat_minor": 5
}
