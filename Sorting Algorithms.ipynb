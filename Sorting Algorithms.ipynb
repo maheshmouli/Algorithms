{
 "cells": [
  {
   "cell_type": "code",
   "execution_count": 19,
   "id": "af028e91",
   "metadata": {},
   "outputs": [
    {
     "name": "stdout",
     "output_type": "stream",
     "text": [
      "Bubble Sort: [5, 10, 20, 30, 65, 70, 80]\n"
     ]
    }
   ],
   "source": [
    "#Bubble Sort Algorithm\n",
    "\n",
    "def Bubblesort(arr, n):\n",
    "    for i in range(n):\n",
    "        for j in range(0, n-i-1): #For leaving the extreme elements as it those will be correct position.\n",
    "#             print(n-i-1)\n",
    "            if arr[j] > arr[j+1]:\n",
    "                arr[j], arr[j+1] = arr[j+1], arr[j]\n",
    "    return arr\n",
    "    \n",
    "if __name__==\"__main__\":\n",
    "    arr = [70, 30, 20, 5, 10, 80, 65]\n",
    "    n = len(arr)\n",
    "    bsort = Bubblesort(arr, n)\n",
    "    print(\"Bubble Sort:\", bsort)"
   ]
  },
  {
   "cell_type": "code",
   "execution_count": 18,
   "id": "a5d1d0b8",
   "metadata": {},
   "outputs": [
    {
     "name": "stdout",
     "output_type": "stream",
     "text": [
      "Selection Sort: [5, 10, 20, 30, 65, 70, 80]\n"
     ]
    }
   ],
   "source": [
    "#Selection Sort Algorithm\n",
    "\n",
    "def Selectiosort(arr, n):\n",
    "    \n",
    "    for i in range(n):\n",
    "        count = i\n",
    "        for j in range(i+1, n):\n",
    "            if arr[j] < arr[count]:\n",
    "                count = j\n",
    "        arr[i], arr[count] = arr[count], arr[i]\n",
    "    return arr\n",
    "\n",
    "if __name__==\"__main__\":\n",
    "    arr = [70, 30, 20, 5, 10, 80, 65]\n",
    "    n = len(arr)\n",
    "    ssort = Selectiosort(arr, n)\n",
    "    print(\"Selection Sort:\",ssort)"
   ]
  },
  {
   "cell_type": "code",
   "execution_count": 5,
   "id": "fc0b4e36",
   "metadata": {},
   "outputs": [
    {
     "name": "stdout",
     "output_type": "stream",
     "text": [
      "Insertion Sort: [5, 10, 20, 30, 65, 70, 80]\n"
     ]
    }
   ],
   "source": [
    "#Insertion Sort\n",
    "#Time complexity will be O(n^2)\n",
    "\n",
    "def Insertiosort(arr, n):\n",
    "    for i in range(1, n):\n",
    "        k = arr[i]\n",
    "        j = i-1\n",
    "        while (j>=0 and k<arr[j]):\n",
    "            arr[j+1] = arr[j]\n",
    "            j -= 1\n",
    "        arr[j+1] = k\n",
    "    return arr\n",
    "\n",
    "if __name__==\"__main__\":\n",
    "    arr = [70, 30, 20, 5, 10, 80, 65]\n",
    "    n = len(arr)\n",
    "    isort = Insertiosort(arr, n)\n",
    "    print(\"Insertion Sort:\",isort)"
   ]
  },
  {
   "cell_type": "code",
   "execution_count": 1,
   "id": "13b6e9d4",
   "metadata": {},
   "outputs": [
    {
     "name": "stdout",
     "output_type": "stream",
     "text": [
      "Min Heap is:\n",
      "[1, 2, 13, 9, 3, 6, 10, 5, 8, 15, 17]\n",
      "Max Heap is:\n",
      "[17, 15, 13, 9, 3, 6, 10, 5, 8, 2, 1]\n",
      "The Heap Sort is:  [1, 2, 3, 5, 6, 8, 9, 10, 13, 15, 17]\n"
     ]
    }
   ],
   "source": [
    "#Building a Heap Binary Tree\n",
    "\n",
    "\n",
    "def max_heap(arr, n, i):\n",
    "    largest = i\n",
    "    left = 2*i+1\n",
    "    right = 2*i+2\n",
    "    if left < n and arr[left] > arr[largest]:\n",
    "        largest = left\n",
    "    if right < n and arr[right] > arr[largest]:\n",
    "        largest = right\n",
    "    if largest != i:\n",
    "        arr[i], arr[largest] = arr[largest], arr[i]\n",
    "        max_heap(arr, n, largest)\n",
    "\n",
    "def min_heap(arr, n, i):\n",
    "    smallest = i\n",
    "    left = 2*i+1\n",
    "    right = 2*i+2\n",
    "    if left < n and arr[left] < arr[smallest]:\n",
    "        smallest = left\n",
    "    if right < n and arr[right] < arr[smallest]:\n",
    "        smallest = right\n",
    "    if smallest != i:\n",
    "        arr[i], arr[smallest] = arr[smallest], arr[i]\n",
    "        max_heap(arr, n, smallest)\n",
    "\n",
    "def heapSort(arr):\n",
    "    size = len(arr)\n",
    " \n",
    "    for i in range(size//2 - 1, -1, -1):\n",
    "        max_heap(arr, size, i)\n",
    " \n",
    "    for i in range(size-1, 0, -1):\n",
    "        arr[i], arr[0] = arr[0], arr[i]  \n",
    "        max_heap(arr, i, 0)\n",
    "    return arr\n",
    "\n",
    "def buildheap(arr, n):\n",
    "    startIndex = n//2 -1\n",
    "    for i in range(startIndex, -1, -1):\n",
    "        min_heap(arr, n, i)\n",
    "    print(\"Min Heap is:\")\n",
    "    print(arr)\n",
    "        \n",
    "    for j in range(startIndex, -1, -1):\n",
    "        max_heap(arr, n, j)\n",
    "    print(\"Max Heap is:\")\n",
    "    print(arr)\n",
    "        \n",
    "            \n",
    "if __name__ == \"__main__\":\n",
    "    arr = [6, 5, 1, 2, 3, 13,\n",
    "           10, 9, 8, 15, 17]\n",
    "    n = len(arr)\n",
    "    buildheap(arr, n)\n",
    "    heapsort = heapSort(arr)\n",
    "    print(\"The Heap Sort is: \", heapsort)"
   ]
  },
  {
   "cell_type": "code",
   "execution_count": 6,
   "id": "2d89fad7",
   "metadata": {},
   "outputs": [
    {
     "name": "stdout",
     "output_type": "stream",
     "text": [
      "Maximum and Minimum in the array are 100 and 24\n"
     ]
    }
   ],
   "source": [
    "#Finding the maxima and minima using Divide and conquer Approach\n",
    "\"\"\"The Recurrence Relation will be T(n) = 2T(n/2)+c.\n",
    "The Running time complexity will be O(n).\"\"\"\n",
    "\n",
    "def maxandmin(arr, i, j):\n",
    "    #If the arr contains only one element\n",
    "    if i == j:\n",
    "        mini = arr[i]\n",
    "        maxi = arr[i]\n",
    "        return maxi, mini\n",
    "    #If the arr contains only two elements\n",
    "    elif i==j-1:\n",
    "        if arr[i] < arr[j]:\n",
    "            maxi = arr[j]\n",
    "            mini = arr[i]\n",
    "        else:\n",
    "            maxi = arr[i]\n",
    "            mini = arr[j]\n",
    "    #If the elements are more than 2 elements\n",
    "    else:\n",
    "        mid = i + (j-i)//2\n",
    "        max1,min1 =  maxandmin(arr, i, mid)\n",
    "        max2, min2 = maxandmin(arr, mid+1, j)\n",
    "        #Comparing the maxima and minima of the recursive calls. \n",
    "        if min1 < min2:\n",
    "            mini = min1\n",
    "        else:\n",
    "            mini = min2\n",
    "        if max1 < max2:\n",
    "            maxi = max2\n",
    "        else:\n",
    "            maxi = max1\n",
    "    return maxi, mini\n",
    "\n",
    "\n",
    "if __name__ == \"__main__\":\n",
    "    arr = [24, 78, 45, 56, 34, 95, 36, 100]\n",
    "    i = 0\n",
    "    j = len(arr) - 1\n",
    "    maxi, mini = maxandmin(arr, i, j)\n",
    "    print(\"Maximum and Minimum in the array are {} and {}\".format(maxi,mini))"
   ]
  },
  {
   "cell_type": "code",
   "execution_count": 1,
   "id": "6e4291e3",
   "metadata": {},
   "outputs": [
    {
     "name": "stdout",
     "output_type": "stream",
     "text": [
      "2 Power -2 is 4\n"
     ]
    }
   ],
   "source": [
    "#Finding the power of an element using recursive approach.\n",
    "\n",
    "def powerelement(a, n):\n",
    "    if n==0:\n",
    "        return 1\n",
    "    elif n==1:\n",
    "        return a\n",
    "    else:\n",
    "        mid = n//2\n",
    "        b = powerelement(a, mid)\n",
    "        power = b * b\n",
    "        if n % 2 == 0:\n",
    "            return power\n",
    "        else:\n",
    "            return power * a\n",
    "    return -1\n",
    "if __name__ == \"__main__\":\n",
    "    a = -2\n",
    "    n = 2\n",
    "    power_ele = powerelement(a, n)\n",
    "    print(\"{} Power {} is {}\".format(n, a, power_ele))"
   ]
  },
  {
   "cell_type": "code",
   "execution_count": 10,
   "id": "2011396d",
   "metadata": {},
   "outputs": [
    {
     "name": "stdout",
     "output_type": "stream",
     "text": [
      "Left Sub array: [20]\n",
      "Right Sub array: [20]\n",
      "Left Sub array: [10]\n",
      "Right Sub array: [80]\n",
      "Left Sub array: [20, 20]\n",
      "Right Sub array: [10, 80]\n",
      "Left Sub array: [60]\n",
      "Right Sub array: [55]\n",
      "Left Sub array: [55, 60]\n",
      "Right Sub array: [45]\n",
      "Left Sub array: [10, 20, 20, 80]\n",
      "Right Sub array: [45, 55, 60]\n",
      "Merger Sort will be:  [10, 20, 20, 45, 55, 60, 80]\n"
     ]
    }
   ],
   "source": [
    "#Merge Sort algorithm\n",
    "#Time complexcity will be: O(nlogn)\n",
    "\n",
    "def mergeprocedure(arr, i, mid, j):\n",
    "    #number of elements in left subarray(i, mid)\n",
    "    ele_left_subarray = mid - i + 1\n",
    "    #number of elements in right subarray(mid + 1, j)\n",
    "    ele_right_subarray = j - mid\n",
    "    \n",
    "    #creating new subarrays \n",
    "    leftsubarray = [0] * ele_left_subarray\n",
    "    rightsubarray = [0] * ele_right_subarray\n",
    "    \n",
    "    #Moving elements into left and right subarrays\n",
    "    for m in range(ele_left_subarray):\n",
    "        leftsubarray[m] = arr[i+m]\n",
    "        \n",
    "    for n in range(ele_right_subarray):\n",
    "        rightsubarray[n] = arr[mid+1+n]\n",
    "        \n",
    "    #pointers for left, right and original arrays\n",
    "    left = 0\n",
    "    right = 0\n",
    "    original = i\n",
    "    \n",
    "    #comparing the left subarray elements with right subarray elements\n",
    "    #and swapping the elements accordingly\n",
    "    while left < ele_left_subarray and right < ele_right_subarray:\n",
    "        if leftsubarray[left] <= rightsubarray[right]:\n",
    "            arr[original] = leftsubarray[left]\n",
    "            left += 1\n",
    "        else:\n",
    "            arr[original] = rightsubarray[right]\n",
    "            right += 1\n",
    "        original += 1\n",
    "        \n",
    "    print(\"Left Sub array:\", leftsubarray)\n",
    "    print(\"Right Sub array:\", rightsubarray)\n",
    "    #transfering the remaining elements from the left and right subarrays.\n",
    "    while left < ele_left_subarray:\n",
    "        arr[original] = leftsubarray[left]\n",
    "        left += 1\n",
    "        original += 1\n",
    "        \n",
    "    while right < ele_right_subarray:\n",
    "        arr[original] = rightsubarray[right]\n",
    "        right += 1\n",
    "        original += 1\n",
    "    \n",
    "\n",
    "\n",
    "def mergesort(arr, i, j):\n",
    "    if i < j:\n",
    "        mid = i + (j-i)//2\n",
    "        mergesort(arr, i, mid)\n",
    "        mergesort(arr, mid+1, j)\n",
    "        mergeprocedure(arr, i, mid, j)\n",
    "    return arr\n",
    "        \n",
    "\n",
    "if __name__==\"__main__\":\n",
    "    arr = [20,20,10,80, 60, 55, 45]\n",
    "    i = 0\n",
    "    j = len(arr) - 1\n",
    "    merge = mergesort(arr, i, j)\n",
    "    print(\"Merger Sort will be: \", merge)\n",
    "    \n",
    "    \n"
   ]
  },
  {
   "cell_type": "code",
   "execution_count": 8,
   "id": "e2c03f4d",
   "metadata": {},
   "outputs": [
    {
     "name": "stdout",
     "output_type": "stream",
     "text": [
      "Quick Sort:  [10, 20, 30, 40, 50]\n"
     ]
    }
   ],
   "source": [
    "#Quick Sort\n",
    "#Time Complexcity is: O(n^2)\n",
    "\n",
    "def quickSort(arr, p, q):\n",
    "    if p < q:\n",
    "        mid = partition(arr, p, q)\n",
    "        quickSort(arr, p, mid-1)\n",
    "        quickSort(arr, mid+1, q)\n",
    "    return arr\n",
    "\n",
    "def partition(arr, p, q):\n",
    "    pivot = arr[p]\n",
    "    i = p\n",
    "    for j in range(i+1, q+1):\n",
    "        if arr[j] <= pivot:\n",
    "            i+=1\n",
    "            arr[i], arr[j] = arr[j], arr[i]\n",
    "    arr[i],arr[p] = arr[p], arr[i]\n",
    "    return i\n",
    "    \n",
    "\n",
    "if __name__ == \"__main__\":\n",
    "    arr = [10,20,30,40,50]\n",
    "    p = 0\n",
    "    q = len(arr) - 1\n",
    "    qs = quickSort(arr, p, q)\n",
    "    print(\"Quick Sort: \", qs)"
   ]
  },
  {
   "cell_type": "code",
   "execution_count": 1,
   "id": "f51afbca",
   "metadata": {},
   "outputs": [
    {
     "name": "stdout",
     "output_type": "stream",
     "text": [
      "Quick Sort:  [25, 40, 68, 52, 66, 79, 89, 97]\n",
      "Kth Smallest element:  40\n"
     ]
    }
   ],
   "source": [
    "#Randomized Quick Sort\n",
    "\"\"\"Time complexcity will be : O(n^2) for worst case scenario\n",
    "Best case will be : O(n logn). It will choose the same \"\"\"\n",
    "\n",
    "import random\n",
    "\n",
    "def randomizedPartition(arr, p, q):\n",
    "    #random pivot index\n",
    "    randomPivotIndex = random.randrange(p,q)\n",
    "    #swap the random index with first index\n",
    "    arr[p], arr[randomPivotIndex] = arr[randomPivotIndex], arr[p]\n",
    "    return partition(arr, p, q)\n",
    "\n",
    "def kthsmallest(arr, p, q, k):\n",
    "    if (p==q):\n",
    "        return arr[p]\n",
    "    pos = partition(arr, p, q)\n",
    "    count = pos - p + 1\n",
    "#     print(count)\n",
    "    if count==k:\n",
    "        return arr[pos]\n",
    "    elif count < k:\n",
    "        return kthsmallest(arr, p, pos-1, k)\n",
    "    else:\n",
    "        return kthsmallest(arr, pos+1, q, k-i)\n",
    "    \n",
    "def quickSort(arr, p, q):\n",
    "    if p < q:\n",
    "        mid = randomizedPartition(arr, p, q)\n",
    "        quickSort(arr, p, mid-1)\n",
    "        quickSort(arr, mid+1, q)\n",
    "    return arr\n",
    "\n",
    "def partition(arr, p, q):\n",
    "    pivot = arr[p]\n",
    "    i = p\n",
    "    for j in range(i+1, q+1):\n",
    "        if arr[j] <= pivot:\n",
    "            i+=1\n",
    "            arr[i], arr[j] = arr[j], arr[i]\n",
    "    arr[i],arr[p] = arr[p], arr[i]\n",
    "    return i+1\n",
    "    \n",
    "\n",
    "if __name__ == \"__main__\":\n",
    "    arr = [40, 25, 68, 79, 52, 66, 89, 97]\n",
    "    p = 0\n",
    "    q = len(arr) - 1\n",
    "    k = 2\n",
    "    qs = quickSort(arr, p, q)\n",
    "    ks = kthsmallest(arr, p, q, k)\n",
    "    print(\"Quick Sort: \", qs)\n",
    "    print(\"Kth Smallest element: \", ks)"
   ]
  },
  {
   "cell_type": "code",
   "execution_count": 1,
   "id": "8002d938",
   "metadata": {},
   "outputs": [
    {
     "name": "stdout",
     "output_type": "stream",
     "text": [
      "Majority element is: 3\n"
     ]
    }
   ],
   "source": [
    "# Boyer-Moore Voting algorithm (Finding the majority element in an array)\n",
    "\n",
    "def majorityele(arr):\n",
    "    count = 0\n",
    "    majority = 0\n",
    "    for i in range(len(arr)-1):\n",
    "        if count == 0:\n",
    "            majority = arr[i]\n",
    "        if arr[i] == majority:\n",
    "            count += 1\n",
    "        else:\n",
    "            count -= 1\n",
    "    return majority\n",
    "\n",
    "if __name__ == \"__main__\":\n",
    "    arr = [2, 2, 1, 3, 1, 3, 3, 3, 1, 3, 2 , 2, 3]\n",
    "    majority = majorityele(arr)\n",
    "    print(\"Majority element is:\", majority)"
   ]
  },
  {
   "cell_type": "code",
   "execution_count": null,
   "id": "f9fa794f",
   "metadata": {},
   "outputs": [],
   "source": [
    "# "
   ]
  }
 ],
 "metadata": {
  "kernelspec": {
   "display_name": "Python 3 (ipykernel)",
   "language": "python",
   "name": "python3"
  },
  "language_info": {
   "codemirror_mode": {
    "name": "ipython",
    "version": 3
   },
   "file_extension": ".py",
   "mimetype": "text/x-python",
   "name": "python",
   "nbconvert_exporter": "python",
   "pygments_lexer": "ipython3",
   "version": "3.9.7"
  }
 },
 "nbformat": 4,
 "nbformat_minor": 5
}
