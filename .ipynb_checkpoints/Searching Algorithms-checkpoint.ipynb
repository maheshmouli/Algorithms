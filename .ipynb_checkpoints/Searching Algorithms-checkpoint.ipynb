{
 "cells": [
  {
   "cell_type": "code",
   "execution_count": 20,
   "id": "7f36f3ef",
   "metadata": {},
   "outputs": [
    {
     "name": "stdout",
     "output_type": "stream",
     "text": [
      "Element is present at 0 index.\n"
     ]
    }
   ],
   "source": [
    "#Using Recursion\n",
    "def BinarySearch(arr, left, right, x):\n",
    "    mid = left + (right - left)//2\n",
    "#     print(mid)\n",
    "    while left <= right:\n",
    "        if arr[mid]==x:\n",
    "            return mid\n",
    "        elif arr[mid] < x:\n",
    "            return BinarySearch(arr, mid+1, right, x)\n",
    "        elif arr[mid] >  x:\n",
    "            return BinarySearch(arr, left, mid-1, x)\n",
    "    return -1\n",
    "\n",
    "if __name__==\"__main__\":\n",
    "    arr = [20,30, 40, 50, 60, 70, 80, 90]\n",
    "    x = 20\n",
    "    n = len(arr)\n",
    "    left = 0\n",
    "    right = n-1\n",
    "    bs = BinarySearch(arr, left, right, x)\n",
    "    print(\"Element is present at {0} index.\".format(bs))\n",
    "    "
   ]
  },
  {
   "cell_type": "code",
   "execution_count": 27,
   "id": "423d4476",
   "metadata": {},
   "outputs": [
    {
     "name": "stdout",
     "output_type": "stream",
     "text": [
      "Element is present at 3 index.\n"
     ]
    }
   ],
   "source": [
    "#Using without recursion\n",
    "\n",
    "def BinarySearch(arr, left, right, x):\n",
    "    while left <= right:\n",
    "        mid = left + (right - left)//2\n",
    "        if arr[mid]==x:\n",
    "            return mid\n",
    "        elif arr[mid] < x:\n",
    "            left = mid + 1\n",
    "        elif arr[mid] >  x:\n",
    "            right = mid - 1\n",
    "    return -1\n",
    "\n",
    "if __name__==\"__main__\":\n",
    "    arr = [20,30, 40, 50, 60, 70, 80, 90]\n",
    "    x = 50\n",
    "    n = len(arr)\n",
    "    left = 0\n",
    "    right = n-1\n",
    "    bs = BinarySearch(arr, left, right, x)\n",
    "    print(\"Element is present at {0} index.\".format(bs))"
   ]
  },
  {
   "cell_type": "code",
   "execution_count": 7,
   "id": "224357ba",
   "metadata": {},
   "outputs": [
    {
     "name": "stdout",
     "output_type": "stream",
     "text": [
      "(4, 5)\n"
     ]
    }
   ],
   "source": [
    "#Binary Search interview question\n",
    "#Checking for sum of 2 values is equal to the given sum.\n",
    "\n",
    "\"\"\"Two Pointer Approach\"\"\"\n",
    "\n",
    "def question1(arr, sum_value):\n",
    "    n = len(arr)\n",
    "    l = 0\n",
    "    r = n - 1\n",
    "    while(l <= r):\n",
    "        if arr[l]+arr[r]==sum_value:\n",
    "            return (l, r)\n",
    "        elif arr[l]+arr[r] > sum_value:\n",
    "            r -= 1\n",
    "        else:\n",
    "            l += 1\n",
    "            \n",
    "if __name__==\"__main__\":\n",
    "    arr = [20, 40, 60, 80, 90, 120, 240]\n",
    "    sum_value = 210\n",
    "    ob = question1(arr, sum_value)\n",
    "    print(ob)"
   ]
  },
  {
   "cell_type": "code",
   "execution_count": 46,
   "id": "cdbc21c9",
   "metadata": {},
   "outputs": [
    {
     "name": "stdout",
     "output_type": "stream",
     "text": [
      "5\n"
     ]
    }
   ],
   "source": [
    "#Getting the maximum profit\n",
    "\n",
    "def maxprofit(arr):\n",
    "    n = len(arr)\n",
    "    min = float('inf')\n",
    "    max = 0\n",
    "    for i in range(n):\n",
    "        if arr[i] < min:\n",
    "#             print(arr[i])\n",
    "            min = arr[i]\n",
    "        elif arr[i] - min > max:\n",
    "#             print(arr[i] - min)\n",
    "            max = arr[i] - min\n",
    "    return max\n",
    "\n",
    "if __name__ == \"__main__\":\n",
    "    arr = [7, 1, 5, 3, 6, 4]\n",
    "    print(maxprofit(arr))\n",
    "    "
   ]
  },
  {
   "cell_type": "code",
   "execution_count": null,
   "id": "8d518136",
   "metadata": {},
   "outputs": [],
   "source": [
    "#Search in 2D array\n",
    "\n",
    "def search2D(arr, target):\n",
    "    m = len(arr)\n",
    "    print(m)\n",
    "\n",
    "if __name ==\"__main__\":\n",
    "    arr = [[1,3,5,7],[10,11,16,20],[23,30, 34, 60]]\n",
    "    target = 3\n",
    "    search_2D = search2D(arr, target)"
   ]
  },
  {
   "cell_type": "code",
   "execution_count": null,
   "id": "7f3d1ab6",
   "metadata": {},
   "outputs": [],
   "source": []
  }
 ],
 "metadata": {
  "kernelspec": {
   "display_name": "Python 3 (ipykernel)",
   "language": "python",
   "name": "python3"
  },
  "language_info": {
   "codemirror_mode": {
    "name": "ipython",
    "version": 3
   },
   "file_extension": ".py",
   "mimetype": "text/x-python",
   "name": "python",
   "nbconvert_exporter": "python",
   "pygments_lexer": "ipython3",
   "version": "3.9.7"
  }
 },
 "nbformat": 4,
 "nbformat_minor": 5
}
